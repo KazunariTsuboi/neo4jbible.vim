{
 "cells": [
  {
   "cell_type": "code",
   "execution_count": null,
   "metadata": {},
   "outputs": [],
   "source": [
    "//*[@id=\"article\"]/div/nav/ul/li[1]/a/div[2]/div[1]/text()"
   ]
  },
  {
   "cell_type": "code",
   "execution_count": null,
   "metadata": {},
   "outputs": [],
   "source": [
    "import sys\n",
    "import requests\n",
    "from lxml import html\n",
    "from bs4 import BeautifulSoup\n",
    "\n",
    "#filepath = sys.argv[1]\n",
    "#file = open(filepath)\n",
    "\n",
    "url = \"https://wol.jw.org/ja/wol/lv/r7/lp-j/0\"\n",
    "html_text = requests.get(url).text\n",
    "soup = BeautifulSoup(html_text, 'html.parser')\n",
    "lxml_converted_data = html.fromstring(str(soup))\n",
    "links = lxml_converted_data.xpath(r'//*[@id=\"article\"]/article/div/nav/ul/li//a')\n",
    "\n",
    "HOSTNAME = r\"https://wol.jw.org/\"\n",
    "output = \"\"\n",
    "for link in links:\n",
    "    print (HOSTNAME + link.attrib[\"href\"])"
   ]
  }
 ],
 "metadata": {
  "kernelspec": {
   "display_name": "Python 3.8.6 64-bit ('neo4j')",
   "language": "python",
   "name": "python3"
  },
  "language_info": {
   "codemirror_mode": {
    "name": "ipython",
    "version": 3
   },
   "file_extension": ".py",
   "mimetype": "text/x-python",
   "name": "python",
   "nbconvert_exporter": "python",
   "pygments_lexer": "ipython3",
   "version": "3.8.6"
  },
  "orig_nbformat": 4,
  "vscode": {
   "interpreter": {
    "hash": "4a715ddb7926cd6a01d0354600ff1d48aac693a6fd4adafa1414e5159c73150d"
   }
  }
 },
 "nbformat": 4,
 "nbformat_minor": 2
}
