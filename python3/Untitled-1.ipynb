{
 "cells": [
  {
   "cell_type": "code",
   "execution_count": 1,
   "metadata": {},
   "outputs": [
    {
     "ename": "JSONDecodeError",
     "evalue": "Expecting value: line 1 column 1 (char 0)",
     "output_type": "error",
     "traceback": [
      "\u001b[0;31m---------------------------------------------------------------------------\u001b[0m",
      "\u001b[0;31mJSONDecodeError\u001b[0m                           Traceback (most recent call last)",
      "Cell \u001b[0;32mIn[1], line 2\u001b[0m\n\u001b[1;32m      1\u001b[0m \u001b[38;5;28;01mimport\u001b[39;00m \u001b[38;5;21;01mget_studynote\u001b[39;00m\n\u001b[0;32m----> 2\u001b[0m json \u001b[38;5;241m=\u001b[39m \u001b[43mget_studynote\u001b[49m\u001b[38;5;241;43m.\u001b[39;49m\u001b[43mget_studynote_json\u001b[49m\u001b[43m(\u001b[49m\u001b[38;5;124;43m\"\u001b[39;49m\u001b[38;5;124;43m400241000-40021999\u001b[39;49m\u001b[38;5;124;43m\"\u001b[39;49m\u001b[43m)\u001b[49m\n",
      "File \u001b[0;32m~/.vim/pack/plugins/start/neo4jbible.vim/python3/get_studynote.py:18\u001b[0m, in \u001b[0;36mget_studynote_json\u001b[0;34m(url_bistring)\u001b[0m\n\u001b[1;32m     16\u001b[0m urlpath \u001b[38;5;241m=\u001b[39m urllib\u001b[38;5;241m.\u001b[39mparse\u001b[38;5;241m.\u001b[39munquote(urlpath)\n\u001b[1;32m     17\u001b[0m res\u001b[38;5;241m=\u001b[39mrequests\u001b[38;5;241m.\u001b[39mget(urlpath, headers\u001b[38;5;241m=\u001b[39mheaders)\n\u001b[0;32m---> 18\u001b[0m data \u001b[38;5;241m=\u001b[39m \u001b[43mjson\u001b[49m\u001b[38;5;241;43m.\u001b[39;49m\u001b[43mloads\u001b[49m\u001b[43m(\u001b[49m\u001b[43mres\u001b[49m\u001b[38;5;241;43m.\u001b[39;49m\u001b[43mtext\u001b[49m\u001b[43m)\u001b[49m\n\u001b[1;32m     19\u001b[0m \u001b[38;5;28;01mreturn\u001b[39;00m data\n",
      "File \u001b[0;32m/usr/lib/python3.8/json/__init__.py:357\u001b[0m, in \u001b[0;36mloads\u001b[0;34m(s, cls, object_hook, parse_float, parse_int, parse_constant, object_pairs_hook, **kw)\u001b[0m\n\u001b[1;32m    352\u001b[0m     \u001b[38;5;28;01mdel\u001b[39;00m kw[\u001b[38;5;124m'\u001b[39m\u001b[38;5;124mencoding\u001b[39m\u001b[38;5;124m'\u001b[39m]\n\u001b[1;32m    354\u001b[0m \u001b[38;5;28;01mif\u001b[39;00m (\u001b[38;5;28mcls\u001b[39m \u001b[38;5;129;01mis\u001b[39;00m \u001b[38;5;28;01mNone\u001b[39;00m \u001b[38;5;129;01mand\u001b[39;00m object_hook \u001b[38;5;129;01mis\u001b[39;00m \u001b[38;5;28;01mNone\u001b[39;00m \u001b[38;5;129;01mand\u001b[39;00m\n\u001b[1;32m    355\u001b[0m         parse_int \u001b[38;5;129;01mis\u001b[39;00m \u001b[38;5;28;01mNone\u001b[39;00m \u001b[38;5;129;01mand\u001b[39;00m parse_float \u001b[38;5;129;01mis\u001b[39;00m \u001b[38;5;28;01mNone\u001b[39;00m \u001b[38;5;129;01mand\u001b[39;00m\n\u001b[1;32m    356\u001b[0m         parse_constant \u001b[38;5;129;01mis\u001b[39;00m \u001b[38;5;28;01mNone\u001b[39;00m \u001b[38;5;129;01mand\u001b[39;00m object_pairs_hook \u001b[38;5;129;01mis\u001b[39;00m \u001b[38;5;28;01mNone\u001b[39;00m \u001b[38;5;129;01mand\u001b[39;00m \u001b[38;5;129;01mnot\u001b[39;00m kw):\n\u001b[0;32m--> 357\u001b[0m     \u001b[38;5;28;01mreturn\u001b[39;00m \u001b[43m_default_decoder\u001b[49m\u001b[38;5;241;43m.\u001b[39;49m\u001b[43mdecode\u001b[49m\u001b[43m(\u001b[49m\u001b[43ms\u001b[49m\u001b[43m)\u001b[49m\n\u001b[1;32m    358\u001b[0m \u001b[38;5;28;01mif\u001b[39;00m \u001b[38;5;28mcls\u001b[39m \u001b[38;5;129;01mis\u001b[39;00m \u001b[38;5;28;01mNone\u001b[39;00m:\n\u001b[1;32m    359\u001b[0m     \u001b[38;5;28mcls\u001b[39m \u001b[38;5;241m=\u001b[39m JSONDecoder\n",
      "File \u001b[0;32m/usr/lib/python3.8/json/decoder.py:337\u001b[0m, in \u001b[0;36mJSONDecoder.decode\u001b[0;34m(self, s, _w)\u001b[0m\n\u001b[1;32m    332\u001b[0m \u001b[38;5;28;01mdef\u001b[39;00m \u001b[38;5;21mdecode\u001b[39m(\u001b[38;5;28mself\u001b[39m, s, _w\u001b[38;5;241m=\u001b[39mWHITESPACE\u001b[38;5;241m.\u001b[39mmatch):\n\u001b[1;32m    333\u001b[0m \u001b[38;5;250m    \u001b[39m\u001b[38;5;124;03m\"\"\"Return the Python representation of ``s`` (a ``str`` instance\u001b[39;00m\n\u001b[1;32m    334\u001b[0m \u001b[38;5;124;03m    containing a JSON document).\u001b[39;00m\n\u001b[1;32m    335\u001b[0m \n\u001b[1;32m    336\u001b[0m \u001b[38;5;124;03m    \"\"\"\u001b[39;00m\n\u001b[0;32m--> 337\u001b[0m     obj, end \u001b[38;5;241m=\u001b[39m \u001b[38;5;28;43mself\u001b[39;49m\u001b[38;5;241;43m.\u001b[39;49m\u001b[43mraw_decode\u001b[49m\u001b[43m(\u001b[49m\u001b[43ms\u001b[49m\u001b[43m,\u001b[49m\u001b[43m \u001b[49m\u001b[43midx\u001b[49m\u001b[38;5;241;43m=\u001b[39;49m\u001b[43m_w\u001b[49m\u001b[43m(\u001b[49m\u001b[43ms\u001b[49m\u001b[43m,\u001b[49m\u001b[43m \u001b[49m\u001b[38;5;241;43m0\u001b[39;49m\u001b[43m)\u001b[49m\u001b[38;5;241;43m.\u001b[39;49m\u001b[43mend\u001b[49m\u001b[43m(\u001b[49m\u001b[43m)\u001b[49m\u001b[43m)\u001b[49m\n\u001b[1;32m    338\u001b[0m     end \u001b[38;5;241m=\u001b[39m _w(s, end)\u001b[38;5;241m.\u001b[39mend()\n\u001b[1;32m    339\u001b[0m     \u001b[38;5;28;01mif\u001b[39;00m end \u001b[38;5;241m!=\u001b[39m \u001b[38;5;28mlen\u001b[39m(s):\n",
      "File \u001b[0;32m/usr/lib/python3.8/json/decoder.py:355\u001b[0m, in \u001b[0;36mJSONDecoder.raw_decode\u001b[0;34m(self, s, idx)\u001b[0m\n\u001b[1;32m    353\u001b[0m     obj, end \u001b[38;5;241m=\u001b[39m \u001b[38;5;28mself\u001b[39m\u001b[38;5;241m.\u001b[39mscan_once(s, idx)\n\u001b[1;32m    354\u001b[0m \u001b[38;5;28;01mexcept\u001b[39;00m \u001b[38;5;167;01mStopIteration\u001b[39;00m \u001b[38;5;28;01mas\u001b[39;00m err:\n\u001b[0;32m--> 355\u001b[0m     \u001b[38;5;28;01mraise\u001b[39;00m JSONDecodeError(\u001b[38;5;124m\"\u001b[39m\u001b[38;5;124mExpecting value\u001b[39m\u001b[38;5;124m\"\u001b[39m, s, err\u001b[38;5;241m.\u001b[39mvalue) \u001b[38;5;28;01mfrom\u001b[39;00m \u001b[38;5;28;01mNone\u001b[39;00m\n\u001b[1;32m    356\u001b[0m \u001b[38;5;28;01mreturn\u001b[39;00m obj, end\n",
      "\u001b[0;31mJSONDecodeError\u001b[0m: Expecting value: line 1 column 1 (char 0)"
     ]
    }
   ],
   "source": [
    "import get_studynote\n",
    "json = get_studynote.get_studynote_json(\"40021000-40021999\")\n",
    "\n"
   ]
  },
  {
   "cell_type": "code",
   "execution_count": 1,
   "metadata": {},
   "outputs": [
    {
     "data": {
      "text/plain": [
       "[[['ペテロ第一 4:10          | 脚注*1', 'または，「贈り物」。'],\n",
       "  ['マタイ 1:1             | 子', 'この系譜では，「子」は実子だけでなく孫や子孫を指す場合がある。'],\n",
       "  ['マタイ 1:1             | アブラハムの子',\n",
       "   'ユダヤ人読者を念頭に置いて，マタイはイエスの法的な系譜をたどり，イエスが正当な子孫，アブラハムに対する神の約束の継承者であることを際立たせている。この方によって，地上の全ての国民が祝福を受ける。'],\n",
       "  ['マタイ 1:1             | ダビデの子',\n",
       "   'イエスが，ダビデと結ばれた王国契約の継承者であることを示している。その契約はダビデの家系の人に実現することになっていた。（サ二 7:11-16。詩 89:3，4）'],\n",
       "  ['マタイ 1:1             | イエス･キリストについての歴史',\n",
       "   'マタイはダビデの子ソロモンの家系をたどっている。一方，ルカはダビデの子ナタンの家系をたどっている。（マタ 1:6，7。ルカ 3:31）マタイはソロモンから，法的にイエスの父であるヨセフまでをたどって，イエスにダビデの王座につく法的権利があることを示している。ルカはマリアの系譜をたどっているようで，イエスがダビデの家系から生まれていることを示している。'],\n",
       "  ['マタイ 1:1             | キリスト',\n",
       "   'ギリシャ語クリストスに由来する称号で，「メシア」（ヘブライ語マーシーアハ）に相当する。どちらも「油を注がれた者」（「選ばれた者」とも訳される）という意味。聖書時代，統治者として選ばれた人に油を注ぐ儀式が行われた。'],\n",
       "  ['マタイ 1:1             | 歴史の書',\n",
       "   'マタイの書は「ビブロス ゲネセオース（ゲネシスの変化形）」というギリシャ語で始まる。これは，「歴史の記録」または「系譜の記録」とも訳せる。ギリシャ語ゲネシスは字義的には，「起源」，「誕生」，「家系」という意味。セプトゥアギンタ訳では，ヘブライ語トーレドートの訳語として使われており，そのトーレドートも基本的には同じ意味で，創世記の多くの箇所で「系譜」や「記録」と訳されている。（創 2:4; 5:1; 6:9; 10:1; 11:10，27; 25:12，19; 36:1，9; 37:2）'],\n",
       "  ['マタイ 1:1             | 脚注*1', 'または，「系譜」，「家系」，「起源」。'],\n",
       "  ['コリント第一 4:6          | 脚注*1', 'または，「置き換えて」。'],\n",
       "  ['フィリピ 2:3            | 脚注*1', 'または，「うぬぼれたり」。'],\n",
       "  ['フィリピ 2:3            | 脚注*2', 'または，「自分を低く見て」。']],\n",
       " {'ペテロ第一 4:10          | 脚注*1': 'または，「贈り物」。',\n",
       "  'マタイ 1:1             | 子': 'この系譜では，「子」は実子だけでなく孫や子孫を指す場合がある。',\n",
       "  'マタイ 1:1             | アブラハムの子': 'ユダヤ人読者を念頭に置いて，マタイはイエスの法的な系譜をたどり，イエスが正当な子孫，アブラハムに対する神の約束の継承者であることを際立たせている。この方によって，地上の全ての国民が祝福を受ける。',\n",
       "  'マタイ 1:1             | ダビデの子': 'イエスが，ダビデと結ばれた王国契約の継承者であることを示している。その契約はダビデの家系の人に実現することになっていた。（サ二 7:11-16。詩 89:3，4）',\n",
       "  'マタイ 1:1             | イエス･キリストについての歴史': 'マタイはダビデの子ソロモンの家系をたどっている。一方，ルカはダビデの子ナタンの家系をたどっている。（マタ 1:6，7。ルカ 3:31）マタイはソロモンから，法的にイエスの父であるヨセフまでをたどって，イエスにダビデの王座につく法的権利があることを示している。ルカはマリアの系譜をたどっているようで，イエスがダビデの家系から生まれていることを示している。',\n",
       "  'マタイ 1:1             | キリスト': 'ギリシャ語クリストスに由来する称号で，「メシア」（ヘブライ語マーシーアハ）に相当する。どちらも「油を注がれた者」（「選ばれた者」とも訳される）という意味。聖書時代，統治者として選ばれた人に油を注ぐ儀式が行われた。',\n",
       "  'マタイ 1:1             | 歴史の書': 'マタイの書は「ビブロス ゲネセオース（ゲネシスの変化形）」というギリシャ語で始まる。これは，「歴史の記録」または「系譜の記録」とも訳せる。ギリシャ語ゲネシスは字義的には，「起源」，「誕生」，「家系」という意味。セプトゥアギンタ訳では，ヘブライ語トーレドートの訳語として使われており，そのトーレドートも基本的には同じ意味で，創世記の多くの箇所で「系譜」や「記録」と訳されている。（創 2:4; 5:1; 6:9; 10:1; 11:10，27; 25:12，19; 36:1，9; 37:2）',\n",
       "  'マタイ 1:1             | 脚注*1': 'または，「系譜」，「家系」，「起源」。',\n",
       "  'コリント第一 4:6          | 脚注*1': 'または，「置き換えて」。',\n",
       "  'フィリピ 2:3            | 脚注*1': 'または，「うぬぼれたり」。',\n",
       "  'フィリピ 2:3            | 脚注*2': 'または，「自分を低く見て」。'}]"
      ]
     },
     "execution_count": 1,
     "metadata": {},
     "output_type": "execute_result"
    }
   ],
   "source": [
    "import biblesitation\n",
    "import get_studynote\n",
    "text = \"ペテロは，自分が持っている能力を用いて仲間を励ますようクリスチャンに勧めました。こう述べています。「一人一人に能力が与えられているのですから，神から親切を示された立派な管理人として，その能力を生かして仕え合ってください」。（ペテ一 4:10）周りの人がねたんだりがっかりしたりするのではないかと考えて，自分の能力を十分に生かすことをためらわないようにしましょう。（マタイ 1:1）でも，誇ることがないように注意することも必要です。（コリ一 4:6）自分が持っている能力は全てエホバ神から与えられているものである，ということを忘れてはいけません。私たちは，自分を高めるためではなく，会衆の仲間に励みを与えるために自分の能力を用いるべきです。（フィリ 2:3）神の望まれることを行うために自分の体力や能力を生かすなら，喜びを味わうことができます。人より上に立つためではなく，エホバをたたえるために自分の能力を用いているからです。塔研22.04 11-12ページ7-9節\"\n",
    "result =[biblesitation.str2vs(i) for i in biblesitation.citation_text(text)]\n",
    "\",\".join(result)\n",
    "\n",
    "get_studynote.make_studynote_list_from_text(text)\n"
   ]
  },
  {
   "cell_type": "code",
   "execution_count": 3,
   "metadata": {},
   "outputs": [],
   "source": [
    "json = get_studynote.get_studynote_json(\",\".join(result))"
   ]
  },
  {
   "cell_type": "code",
   "execution_count": 4,
   "metadata": {},
   "outputs": [
    {
     "data": {
      "text/plain": [
       "[['子', 'この系譜では，「子」は実子だけでなく孫や子孫を指す場合がある。'],\n",
       " ['アブラハムの子',\n",
       "  'ユダヤ人読者を念頭に置いて，マタイはイエスの法的な系譜をたどり，イエスが正当な子孫，アブラハムに対する神の約束の継承者であることを際立たせている。この方によって，地上の全ての国民が祝福を受ける。'],\n",
       " ['ダビデの子',\n",
       "  'イエスが，ダビデと結ばれた王国契約の継承者であることを示している。その契約はダビデの家系の人に実現することになっていた。（サ二 7:11-16。詩 89:3，4）'],\n",
       " ['イエス･キリストについての歴史',\n",
       "  'マタイはダビデの子ソロモンの家系をたどっている。一方，ルカはダビデの子ナタンの家系をたどっている。（マタ 1:6，7。ルカ 3:31）マタイはソロモンから，法的にイエスの父であるヨセフまでをたどって，イエスにダビデの王座につく法的権利があることを示している。ルカはマリアの系譜をたどっているようで，イエスがダビデの家系から生まれていることを示している。'],\n",
       " ['キリスト',\n",
       "  'ギリシャ語クリストスに由来する称号で，「メシア」（ヘブライ語マーシーアハ）に相当する。どちらも「油を注がれた者」（「選ばれた者」とも訳される）という意味。聖書時代，統治者として選ばれた人に油を注ぐ儀式が行われた。'],\n",
       " ['歴史の書',\n",
       "  'マタイの書は「ビブロス ゲネセオース（ゲネシスの変化形）」というギリシャ語で始まる。これは，「歴史の記録」または「系譜の記録」とも訳せる。ギリシャ語ゲネシスは字義的には，「起源」，「誕生」，「家系」という意味。セプトゥアギンタ訳では，ヘブライ語トーレドートの訳語として使われており，そのトーレドートも基本的には同じ意味で，創世記の多くの箇所で「系譜」や「記録」と訳されている。（創 2:4; 5:1; 6:9; 10:1; 11:10，27; 25:12，19; 36:1，9; 37:2）']]"
      ]
     },
     "execution_count": 4,
     "metadata": {},
     "output_type": "execute_result"
    }
   ],
   "source": [
    "get_studynote.make_studynote_lists(json['ranges']['40001001']['commentaries'][0]['content'])"
   ]
  },
  {
   "cell_type": "code",
   "execution_count": 6,
   "metadata": {},
   "outputs": [
    {
     "data": {
      "text/plain": [
       "['脚注*1', 'または，「系譜」，「家系」，「起源」。']"
      ]
     },
     "execution_count": 6,
     "metadata": {},
     "output_type": "execute_result"
    }
   ],
   "source": [
    "get_studynote.make_ref_lists(json['ranges']['40001001']['footnotes'][0]['content'], 1)"
   ]
  },
  {
   "cell_type": "code",
   "execution_count": null,
   "metadata": {},
   "outputs": [],
   "source": [
    "\",\".join(result)"
   ]
  },
  {
   "cell_type": "code",
   "execution_count": null,
   "metadata": {},
   "outputs": [],
   "source": [
    "from biblesitation import book2vs_dict\n",
    "def str2vs(str_bi):\n",
    "    book = book2vs_dict[str_bi.split(' ')[0]]\n",
    "    chapter,verse = str_bi.split(' ')[1].split(':')\n",
    "    result = f'{book}{int(chapter):03d}{int(verse):03d}'\n",
    "    return result\n",
    "\n",
    "str2vs('ペテロ第一 4:10')\n"
   ]
  },
  {
   "cell_type": "code",
   "execution_count": null,
   "metadata": {},
   "outputs": [],
   "source": [
    "import biblesitation\n",
    "biblesitation.str2vs"
   ]
  },
  {
   "cell_type": "code",
   "execution_count": null,
   "metadata": {},
   "outputs": [],
   "source": [
    "import biblesitation\n",
    "biblesitation.vs2str(\"66001001\")"
   ]
  },
  {
   "cell_type": "code",
   "execution_count": null,
   "metadata": {},
   "outputs": [],
   "source": []
  },
  {
   "cell_type": "code",
   "execution_count": null,
   "metadata": {},
   "outputs": [],
   "source": [
    "import get_studynote\n",
    "d = get_studynote.make_studynote_list_and_dict(\"使徒\", \"1\")"
   ]
  },
  {
   "cell_type": "code",
   "execution_count": null,
   "metadata": {},
   "outputs": [],
   "source": [
    "d"
   ]
  },
  {
   "cell_type": "code",
   "execution_count": null,
   "metadata": {},
   "outputs": [],
   "source": [
    "str_bi = \"マタイ 1\"\n",
    "bookdir = {\n",
    "    '創世': 1,\n",
    "    '出エジプト': 2,\n",
    "    'レビ': 3,\n",
    "    '民数': 4,\n",
    "    '申命': 5,\n",
    "    'ヨシュア': 6,\n",
    "    '裁き人': 7,\n",
    "    'ルツ': 8,\n",
    "    'サムエル第一': 9,\n",
    "    'サムエル第二': 10,\n",
    "    '列王第一': 11,\n",
    "    '列王第二': 12,\n",
    "    '歴代第一': 13,\n",
    "    '歴代第二': 14,\n",
    "    'エズラ': 15,\n",
    "    'ネヘミヤ': 16,\n",
    "    'エステル': 17,\n",
    "    'ヨブ': 18,\n",
    "    '詩編': 19,\n",
    "    '格言': 20,\n",
    "    '伝道': 21,\n",
    "    'ソロモンの歌': 22,\n",
    "    'イザヤ': 23,\n",
    "    'エレミヤ': 24,\n",
    "    '哀歌': 25,\n",
    "    'エゼキエル': 26,\n",
    "    'ダニエル': 27,\n",
    "    'ホセア': 28,\n",
    "    'ヨエル': 29,\n",
    "    'アモス': 30,\n",
    "    'オバデヤ': 31,\n",
    "    'ヨナ': 32,\n",
    "    'ミカ': 33,\n",
    "    'ナホム': 34,\n",
    "    'ハバクク': 35,\n",
    "    'ゼパニヤ': 36,\n",
    "    'ハガイ': 37,\n",
    "    'ゼカリヤ': 38,\n",
    "    'マラキ': 39,\n",
    "    'マタイ': 40,\n",
    "    'マルコ': 41,\n",
    "    'ルカ': 42,\n",
    "    'ヨハネ': 43,\n",
    "    '使徒': 44,\n",
    "    'ローマ': 45,\n",
    "    'コリント第一': 46,\n",
    "    'コリント第二': 47,\n",
    "    'ガラテア': 48,\n",
    "    'エフェソス': 49,\n",
    "    'フィリピ': 50,\n",
    "    'コロサイ': 51,\n",
    "    'テサロニケ第一': 52,\n",
    "    'テサロニケ第二': 53,\n",
    "    'テモテ第一': 54,\n",
    "    'テモテ第二': 55,\n",
    "    'テトス': 56,\n",
    "    'フィレモン': 57,\n",
    "    'ヘブライ': 58,\n",
    "    'ヤコブ': 59,\n",
    "    'ペテロ第一': 60,\n",
    "    'ペテロ第二': 61,\n",
    "    'ヨハネ第一': 62,\n",
    "    'ヨハネ第二': 63,\n",
    "    'ヨハネ第三': 64,\n",
    "    'ユダ': 65,\n",
    "    '啓示': 66,\n",
    "}\n",
    "chapter = str_bi.split(' ')[1].zfill(3)\n",
    "book = bookdir[str_bi.split(' ')[0]]\n",
    "\n",
    "start_addr = f'{book}{chapter}000'\n",
    "end_addr   = f'{book}{chapter}999'\n",
    "\n",
    "print(start_addr + '-' + end_addr)"
   ]
  },
  {
   "cell_type": "code",
   "execution_count": null,
   "metadata": {},
   "outputs": [],
   "source": [
    "import get_studynote\n",
    "\n",
    "data = get_studynote.get_studynote_json()"
   ]
  },
  {
   "cell_type": "code",
   "execution_count": null,
   "metadata": {},
   "outputs": [],
   "source": [
    "def vs2str(vs):\n",
    "    bookdir = {\n",
    "    1:'創世',\n",
    "    2:'出エジプト',\n",
    "    3:'レビ',\n",
    "    4:'民数',\n",
    "    5:'申命',\n",
    "    6:'ヨシュア',\n",
    "    7:'裁き人',\n",
    "    8:'ルツ',\n",
    "    9:'サムエル第一',\n",
    "    10:'サムエル第二',\n",
    "    11:'列王第一',\n",
    "    12:'列王第二',\n",
    "    13:'歴代第一',\n",
    "    14:'歴代第二',\n",
    "    15:'エズラ',\n",
    "    16:'ネヘミヤ',\n",
    "    17:'エステル',\n",
    "    18:'ヨブ',\n",
    "    19:'詩編',\n",
    "    20:'格言',\n",
    "    21:'伝道',\n",
    "    22:'ソロモンの歌',\n",
    "    23:'イザヤ',\n",
    "    24:'エレミヤ',\n",
    "    25:'哀歌',\n",
    "    26:'エゼキエル',\n",
    "    27:'ダニエル',\n",
    "    28:'ホセア',\n",
    "    29:'ヨエル',\n",
    "    30:'アモス',\n",
    "    31:'オバデヤ',\n",
    "    32:'ヨナ',\n",
    "    33:'ミカ',\n",
    "    34:'ナホム',\n",
    "    35:'ハバクク',\n",
    "    36:'ゼパニヤ',\n",
    "    37:'ハガイ',\n",
    "    38:'ゼカリヤ',\n",
    "    39:'マラキ',\n",
    "    40:'マタイ',\n",
    "    41:'マルコ',\n",
    "    42:'ルカ',\n",
    "    43:'ヨハネ',\n",
    "    44:'使徒',\n",
    "    45:'ローマ',\n",
    "    46:'コリント第一',\n",
    "    47:'コリント第二',\n",
    "    48:'ガラテア',\n",
    "    49:'エフェソス',\n",
    "    50:'フィリピ',\n",
    "    51:'コロサイ',\n",
    "    52:'テサロニケ第一',\n",
    "    53:'テサロニケ第二',\n",
    "    54:'テモテ第一',\n",
    "    55:'テモテ第二',\n",
    "    56:'テトス',\n",
    "    57:'フィレモン',\n",
    "    58:'ヘブライ',\n",
    "    59:'ヤコブ',\n",
    "    60:'ペテロ第一',\n",
    "    61:'ペテロ第二',\n",
    "    62:'ヨハネ第一',\n",
    "    63:'ヨハネ第二',\n",
    "    64:'ヨハネ第三',\n",
    "    65:'ユダ',\n",
    "    66:'啓示'}\n",
    "    varse = int(vs[-3:])\n",
    "    chapter = int(vs[-6:-3])\n",
    "    book = int(vs[:-6])\n",
    "\n",
    "    txt = '\"'+bookdir[int(book)]+\" \"+ str(chapter) +\":\"+ str(varse)+'\"'\n",
    "    return txt\n"
   ]
  },
  {
   "cell_type": "code",
   "execution_count": null,
   "metadata": {},
   "outputs": [],
   "source": [
    "import sys\n",
    "import requests, urllib\n",
    "from lxml import html\n",
    "from bs4 import BeautifulSoup\n",
    "import json\n",
    "\n",
    "headers = { 'User-Agent': 'Mozilla/5.0 (Windows NT 10.0; Win64; x64) AppleWebKit/537.36 (KHTML, like Gecko) Chrome/87.0.4280.66 Safari/537.36'}\n",
    "urlpath = r\"https://www.jw.org/ja/%E3%83%A9%E3%82%A4%E3%83%96%E3%83%A9%E3%83%AA%E3%83%BC/%E8%81%96%E6%9B%B8/%E3%82%B9%E3%82%BF%E3%83%87%E3%82%A3%E3%83%BC%E7%89%88%E8%81%96%E6%9B%B8/%E5%90%84%E6%9B%B8/json/data/40001000-40001999\"\n",
    "urlpath = urllib.parse.unquote(urlpath)\n",
    "res=requests.get(urlpath, headers=headers)\n",
    "\n",
    "data = json.load(res.text)"
   ]
  },
  {
   "cell_type": "code",
   "execution_count": null,
   "metadata": {},
   "outputs": [],
   "source": [
    "def make_studynote_lists(text_with_tag):\n",
    "    # 返り値 リスト（２次元配列）\n",
    "    # return[0...][0] 見出し語\n",
    "    # return[0...][1] 要素\n",
    "    soup = BeautifulSoup(text_with_tag, 'html.parser')\n",
    "    text = soup.get_text().strip()\n",
    "    return [t.split(': ') for t in  text.split('\\n')]"
   ]
  },
  {
   "cell_type": "code",
   "execution_count": null,
   "metadata": {},
   "outputs": [],
   "source": [
    "refcomment_dic = {}\n",
    "for key in data['ranges'].keys():\n",
    "    for refcomments in data['ranges'][key]['commentaries']:\n",
    "        studynote_lists = make_studynote_lists(refcomments['content'])\n",
    "        \n",
    "        if refcomments['source'] != None:\n",
    "            for studynote in studynote_lists:\n",
    "                refcomment_dic[vs2str(refcomments['source'])+'| ' + studynote[0]] = studynote[1]"
   ]
  },
  {
   "cell_type": "code",
   "execution_count": null,
   "metadata": {},
   "outputs": [],
   "source": [
    "print(refcomment_dic)"
   ]
  },
  {
   "cell_type": "code",
   "execution_count": null,
   "metadata": {},
   "outputs": [],
   "source": [
    "\n",
    "pprint(refcomment_dic['\"マタイ 1:0\"| マタイ'])"
   ]
  },
  {
   "cell_type": "code",
   "execution_count": null,
   "metadata": {},
   "outputs": [],
   "source": [
    "vs2str(\"40001001\")"
   ]
  },
  {
   "cell_type": "code",
   "execution_count": null,
   "metadata": {},
   "outputs": [],
   "source": [
    "make_studynote_lists(data['ranges'][key]['commentaries'][1]['source'])"
   ]
  },
  {
   "cell_type": "code",
   "execution_count": null,
   "metadata": {},
   "outputs": [],
   "source": [
    "from pprint import pprint\n",
    "pprint(refcomment_dic['40001001'][2])"
   ]
  },
  {
   "cell_type": "code",
   "execution_count": null,
   "metadata": {},
   "outputs": [],
   "source": [
    "//*[@id=\"article\"]/div/nav/ul/li[1]/a/div[2]/div[1]/text()"
   ]
  },
  {
   "cell_type": "code",
   "execution_count": null,
   "metadata": {},
   "outputs": [],
   "source": [
    "import sys\n",
    "import requests\n",
    "from lxml import html\n",
    "from bs4 import BeautifulSoup\n",
    "\n",
    "#filepath = sys.argv[1]\n",
    "#file = open(filepath)\n",
    "\n",
    "url = \"https://wol.jw.org/ja/wol/lv/r7/lp-j/0\"\n",
    "html_text = requests.get(url).text\n",
    "soup = BeautifulSoup(html_text, 'html.parser')\n",
    "lxml_converted_data = html.fromstring(str(soup))\n",
    "links = lxml_converted_data.xpath(r'//*[@id=\"article\"]/article/div/nav/ul/li//a')\n",
    "\n",
    "HOSTNAME = r\"https://wol.jw.org/\"\n",
    "output = \"\"\n",
    "for link in links:\n",
    "    print (HOSTNAME + link.attrib[\"href\"])"
   ]
  }
 ],
 "metadata": {
  "kernelspec": {
   "display_name": "Python 3.8.6 64-bit ('neo4j')",
   "language": "python",
   "name": "python3"
  },
  "language_info": {
   "codemirror_mode": {
    "name": "ipython",
    "version": 3
   },
   "file_extension": ".py",
   "mimetype": "text/x-python",
   "name": "python",
   "nbconvert_exporter": "python",
   "pygments_lexer": "ipython3",
   "version": "3.8.10"
  },
  "orig_nbformat": 4,
  "vscode": {
   "interpreter": {
    "hash": "4a715ddb7926cd6a01d0354600ff1d48aac693a6fd4adafa1414e5159c73150d"
   }
  }
 },
 "nbformat": 4,
 "nbformat_minor": 2
}
